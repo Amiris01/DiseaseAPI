{
 "cells": [
  {
   "cell_type": "code",
   "execution_count": 1,
   "id": "7bce73dd-7560-41b4-b945-feab5df6417d",
   "metadata": {},
   "outputs": [
    {
     "name": "stdout",
     "output_type": "stream",
     "text": [
      "Disease encoder created and saved successfully!\n"
     ]
    }
   ],
   "source": [
    "from sklearn.preprocessing import LabelEncoder\n",
    "from joblib import dump\n",
    "import pandas as pd\n",
    "\n",
    "# Load training data\n",
    "data = pd.read_csv(\"dataset.csv\")\n",
    "features = data.drop(\"Disease\", axis=1)\n",
    "labels = data[\"Disease\"]\n",
    "\n",
    "# Create and fit label encoder\n",
    "encoder = LabelEncoder()\n",
    "encoder.fit(labels)\n",
    "\n",
    "# Optional: Encode labels for training\n",
    "encoded_labels = encoder.transform(labels)\n",
    "\n",
    "# Save the encoder\n",
    "dump(encoder, \"disease_encoder.joblib\")\n",
    "\n",
    "print(\"Disease encoder created and saved successfully!\")"
   ]
  },
  {
   "cell_type": "code",
   "execution_count": null,
   "id": "a84be1fd-fb77-44bd-bf64-9866af915b21",
   "metadata": {},
   "outputs": [],
   "source": []
  }
 ],
 "metadata": {
  "kernelspec": {
   "display_name": "Python 3 (ipykernel)",
   "language": "python",
   "name": "python3"
  },
  "language_info": {
   "codemirror_mode": {
    "name": "ipython",
    "version": 3
   },
   "file_extension": ".py",
   "mimetype": "text/x-python",
   "name": "python",
   "nbconvert_exporter": "python",
   "pygments_lexer": "ipython3",
   "version": "3.12.2"
  }
 },
 "nbformat": 4,
 "nbformat_minor": 5
}
